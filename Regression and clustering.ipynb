{
 "cells": [
  {
   "cell_type": "code",
   "execution_count": 13,
   "id": "0b7eaad6-8d75-41db-b062-a08bff580396",
   "metadata": {},
   "outputs": [],
   "source": [
    "import pandas as pd\n",
    "from sklearn.linear_model import LinearRegression\n",
    "from sklearn.cluster import KMeans\n",
    "from sklearn.preprocessing import LabelEncoder, StandardScaler, OneHotEncoder\n",
    "from sklearn.metrics import r2_score, mean_absolute_error, silhouette_score\n",
    "from sklearn.compose import ColumnTransformer"
   ]
  },
  {
   "cell_type": "code",
   "execution_count": 14,
   "id": "28a88655-bc16-4b42-ae1e-2082e7f0c0d7",
   "metadata": {},
   "outputs": [],
   "source": [
    "df = pd.read_csv('Orders.csv')"
   ]
  },
  {
   "cell_type": "code",
   "execution_count": 15,
   "id": "dedd866c-bc5c-43f3-9df0-830454c91313",
   "metadata": {},
   "outputs": [
    {
     "name": "stdout",
     "output_type": "stream",
     "text": [
      "   Order ID  Order Date  customer_id CustomerName             State     City  \\\n",
      "0         1  03-10-2018            1    Harivansh     Uttar Pradesh  Mathura   \n",
      "1         2  02-03-2018            3       Madhav    Madhya Pradesh   Indore   \n",
      "2         3   1/24/2018            5  Madan Mohan  Himachal Pradesh    Simla   \n",
      "3         4  12/27/2018            7        Gopal  Himachal Pradesh    Simla   \n",
      "4         5   8/21/2018            9     Vishakha          Nagaland   Kohima   \n",
      "\n",
      "   order_total  Product _cost Category  \n",
      "0         2599           1145   Phones  \n",
      "1         2599           1145   Phones  \n",
      "2         2599           1145   Tables  \n",
      "3         2599           1145   Phones  \n",
      "4         2599           2291   Phones  \n",
      "=================\n",
      "['Order ID', 'Order Date', 'customer_id', 'CustomerName', 'State', 'City', 'order_total', 'Product _cost', 'Category']\n",
      "=================\n",
      "Order ID          int64\n",
      "Order Date       object\n",
      "customer_id       int64\n",
      "CustomerName     object\n",
      "State            object\n",
      "City             object\n",
      "order_total       int64\n",
      "Product _cost     int64\n",
      "Category         object\n",
      "dtype: object\n"
     ]
    }
   ],
   "source": [
    "print(df.head())\n",
    "print (\"=================\")\n",
    "print(df.columns.tolist())\n",
    "print (\"=================\")\n",
    "print(df.dtypes)"
   ]
  },
  {
   "cell_type": "code",
   "execution_count": 16,
   "id": "bb9f9558-d5ae-4332-9e9b-7a40d46dca15",
   "metadata": {},
   "outputs": [],
   "source": [
    "categorical_cols = ['Category']\n",
    "numerical_cols = ['Product _cost']\n",
    "ct = ColumnTransformer(\n",
    "    transformers=[('encoder', OneHotEncoder(), categorical_cols)],\n",
    "    remainder='passthrough'\n",
    ")\n",
    "\n",
    "#linear regression\n",
    "X = ct.fit_transform(df)\n",
    "X = X[:, :len(numerical_cols) + len(categorical_cols)]\n",
    "y = df['order_total']"
   ]
  },
  {
   "cell_type": "code",
   "execution_count": 17,
   "id": "4c9a793f-b401-4d15-95ef-c92f5742b539",
   "metadata": {},
   "outputs": [
    {
     "name": "stdout",
     "output_type": "stream",
     "text": [
      "Linear Regression R-squared: 0.0028550032302894213\n"
     ]
    }
   ],
   "source": [
    "model = LinearRegression()\n",
    "model.fit(X, y)\n",
    "y_pred = model.predict(X)\n",
    "print(\"Linear Regression R-squared:\", r2_score(y, y_pred))"
   ]
  },
  {
   "cell_type": "code",
   "execution_count": 22,
   "id": "2f874b7a-147f-47b2-9086-a2a40a9f4795",
   "metadata": {},
   "outputs": [],
   "source": [
    "df['Frequency'] = df['order_total'].apply(lambda x: 1 if x < 1000 else 2 if x < 5000 else 3)"
   ]
  },
  {
   "cell_type": "code",
   "execution_count": 23,
   "id": "d4e42d07-7984-463b-905c-d8785757413c",
   "metadata": {},
   "outputs": [],
   "source": [
    "kmeans = KMeans(n_clusters=3)\n",
    "kmeans.fit(df[['Frequency', 'order_total']])\n",
    "labels = kmeans.labels_"
   ]
  },
  {
   "cell_type": "code",
   "execution_count": 28,
   "id": "cfe24000-eb47-4dd6-81e5-db07b32ca74b",
   "metadata": {},
   "outputs": [
    {
     "name": "stdout",
     "output_type": "stream",
     "text": [
      "('K-Means Silhouette Score:', 0.7559184833987841)\n",
      "High\n"
     ]
    }
   ],
   "source": [
    "cluster=(\"K-Means Silhouette Score:\", silhouette_score(df[['Frequency', 'order_total']], labels))\n",
    "print(cluster)\n",
    "if cluster==1:\n",
    "    print(\"Low\")\n",
    "elif cluster==2:\n",
    "    print(\"Medium\")\n",
    "else:\n",
    "    print(\"High\")"
   ]
  },
  {
   "cell_type": "code",
   "execution_count": null,
   "id": "61abb78b-79ca-460f-84b6-865ae1d12865",
   "metadata": {},
   "outputs": [],
   "source": []
  }
 ],
 "metadata": {
  "kernelspec": {
   "display_name": "Python 3 (ipykernel)",
   "language": "python",
   "name": "python3"
  },
  "language_info": {
   "codemirror_mode": {
    "name": "ipython",
    "version": 3
   },
   "file_extension": ".py",
   "mimetype": "text/x-python",
   "name": "python",
   "nbconvert_exporter": "python",
   "pygments_lexer": "ipython3",
   "version": "3.12.1"
  }
 },
 "nbformat": 4,
 "nbformat_minor": 5
}
